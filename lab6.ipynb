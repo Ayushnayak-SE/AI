{
 "cells": [
  {
   "cell_type": "code",
   "execution_count": 1,
   "id": "69a17251-9bc2-499e-a8ba-5d0ccc793b7b",
   "metadata": {},
   "outputs": [
    {
     "name": "stdout",
     "output_type": "stream",
     "text": [
      "Path to Treasure: [(0, 0), (0, 1), (0, 2), (0, 3), (0, 4), (1, 4), (2, 4), (3, 4), (4, 4)]\n"
     ]
    },
    {
     "data": {
      "image/png": "[encoded data removed]",
      "text/plain": [
       "<Figure size 640x480 with 2 Axes>"
      ]
     },
     "metadata": {},
     "output_type": "display_data"
    }
   ],
   "source": [
    "import heapq\n",
    "import matplotlib.pyplot as plt\n",
    "import numpy as np\n",
    "\n",
    "def manhattan_distance(x1, y1, x2, y2):\n",
    "    return abs(x1 - x2) + abs(y1 - y2)\n",
    "\n",
    "def best_first_search(grid, start, treasure):\n",
    "    rows, cols = len(grid), len(grid[0])\n",
    "    visited = set()\n",
    "    priority_queue = []\n",
    "    heapq.heappush(priority_queue, (grid[start[0]][start[1]], start))\n",
    "    path = []\n",
    "    \n",
    "    while priority_queue:\n",
    "        _, (x, y) = heapq.heappop(priority_queue)\n",
    "        \n",
    "        if (x, y) in visited:\n",
    "            continue\n",
    "        \n",
    "        visited.add((x, y))\n",
    "        path.append((x, y))\n",
    "        \n",
    "        if (x, y) == treasure:\n",
    "            return path\n",
    "        \n",
    "        for dx, dy in [(-1, 0), (1, 0), (0, -1), (0, 1)]:\n",
    "            nx, ny = x + dx, y + dy\n",
    "            if 0 <= nx < rows and 0 <= ny < cols and (nx, ny) not in visited:\n",
    "                heuristic = manhattan_distance(nx, ny, treasure[0], treasure[1])\n",
    "                heapq.heappush(priority_queue, (heuristic, (nx, ny)))\n",
    "    \n",
    "    return path  # Returns path explored if treasure not found\n",
    "\n",
    "def visualize_grid(grid, path):\n",
    "    grid_np = np.array(grid)\n",
    "    plt.imshow(grid_np, cmap='coolwarm', interpolation='nearest')\n",
    "    \n",
    "    for (x, y) in path:\n",
    "        plt.text(y, x, 'X', ha='center', va='center', color='black', fontsize=12, fontweight='bold')\n",
    "    \n",
    "    plt.xticks(range(len(grid[0])))\n",
    "    plt.yticks(range(len(grid)))\n",
    "    plt.title(\"Best-First Search Path\")\n",
    "    plt.colorbar()\n",
    "    plt.show()\n",
    "\n",
    "# Example grid and test\n",
    "rows, cols = 5, 5\n",
    "treasure = (4, 4)\n",
    "start = (0, 0)\n",
    "grid = [[manhattan_distance(r, c, treasure[0], treasure[1]) for c in range(cols)] for r in range(rows)]\n",
    "\n",
    "path_taken = best_first_search(grid, start, treasure)\n",
    "print(\"Path to Treasure:\", path_taken)\n",
    "\n",
    "visualize_grid(grid, path_taken)\n"
   ]
  },
  {
   "cell_type": "code",
   "execution_count": null,
   "id": "122a6ca2-49a1-43c4-a810-899e2b6559e4",
   "metadata": {},
   "outputs": [],
   "source": [
    "plmoknij"
   ]
  },
  {
   "cell_type": "code",
   "execution_count": null,
   "id": "56b309dd-25e8-4c17-8ce5-3ab7dbeb1354",
   "metadata": {},
   "outputs": [],
   "source": []
  }
 ],
 "metadata": {
  "kernelspec": {
   "display_name": "Python [conda env:base] *",
   "language": "python",
   "name": "conda-base-py"
  },
  "language_info": {
   "codemirror_mode": {
    "name": "ipython",
    "version": 3
   },
   "file_extension": ".py",
   "mimetype": "text/x-python",
   "name": "python",
   "nbconvert_exporter": "python",
   "pygments_lexer": "ipython3",
   "version": "3.12.7"
  }
 },
 "nbformat": 4,
 "nbformat_minor": 5
}
